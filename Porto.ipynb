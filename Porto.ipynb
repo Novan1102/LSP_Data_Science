{
 "cells": [
  {
   "cell_type": "code",
   "execution_count": 9,
   "id": "01bfc006-cd2e-4840-ac21-f0dcb284fb19",
   "metadata": {},
   "outputs": [],
   "source": [
    "# Import Library matplotlib.pyplot & Seaborn\n",
    "import matplotlib.pyplot as plt\n",
    "import pandas as pd\n",
    "import seaborn as sns\n",
    "\n",
    "# Import Library Winsorize\n",
    "from scipy.stats.mstats import winsorize"
   ]
  },
  {
   "cell_type": "code",
   "execution_count": 2,
   "id": "38139b29-70dd-423e-a5f7-939eee46b19e",
   "metadata": {},
   "outputs": [],
   "source": [
    "df = pd.read_csv(\"motor_second.csv\")"
   ]
  },
  {
   "cell_type": "code",
   "execution_count": 3,
   "id": "4bc84173-d369-40c6-b10a-48bcb99a5156",
   "metadata": {},
   "outputs": [
    {
     "data": {
      "text/html": [
       "<div>\n",
       "<style scoped>\n",
       "    .dataframe tbody tr th:only-of-type {\n",
       "        vertical-align: middle;\n",
       "    }\n",
       "\n",
       "    .dataframe tbody tr th {\n",
       "        vertical-align: top;\n",
       "    }\n",
       "\n",
       "    .dataframe thead th {\n",
       "        text-align: right;\n",
       "    }\n",
       "</style>\n",
       "<table border=\"1\" class=\"dataframe\">\n",
       "  <thead>\n",
       "    <tr style=\"text-align: right;\">\n",
       "      <th></th>\n",
       "      <th>model</th>\n",
       "      <th>tahun</th>\n",
       "      <th>harga</th>\n",
       "      <th>transmisi</th>\n",
       "      <th>odometer</th>\n",
       "      <th>jenis</th>\n",
       "      <th>pajak</th>\n",
       "      <th>konsumsiBBM</th>\n",
       "      <th>mesin</th>\n",
       "    </tr>\n",
       "  </thead>\n",
       "  <tbody>\n",
       "    <tr>\n",
       "      <th>0</th>\n",
       "      <td>Supra X 125</td>\n",
       "      <td>2017</td>\n",
       "      <td>7999</td>\n",
       "      <td>Manual</td>\n",
       "      <td>17307</td>\n",
       "      <td>Bebek</td>\n",
       "      <td>145.0</td>\n",
       "      <td>58.9</td>\n",
       "      <td>125.0</td>\n",
       "    </tr>\n",
       "    <tr>\n",
       "      <th>1</th>\n",
       "      <td>Vario 125</td>\n",
       "      <td>2016</td>\n",
       "      <td>14499</td>\n",
       "      <td>Automatic</td>\n",
       "      <td>25233</td>\n",
       "      <td>Skuter</td>\n",
       "      <td>235.0</td>\n",
       "      <td>43.5</td>\n",
       "      <td>125.0</td>\n",
       "    </tr>\n",
       "    <tr>\n",
       "      <th>2</th>\n",
       "      <td>Vario 125</td>\n",
       "      <td>2016</td>\n",
       "      <td>11399</td>\n",
       "      <td>Automatic</td>\n",
       "      <td>37877</td>\n",
       "      <td>Skuter</td>\n",
       "      <td>30.0</td>\n",
       "      <td>61.7</td>\n",
       "      <td>125.0</td>\n",
       "    </tr>\n",
       "    <tr>\n",
       "      <th>3</th>\n",
       "      <td>Revo</td>\n",
       "      <td>2016</td>\n",
       "      <td>6499</td>\n",
       "      <td>Manual</td>\n",
       "      <td>23789</td>\n",
       "      <td>Bebek</td>\n",
       "      <td>20.0</td>\n",
       "      <td>60.1</td>\n",
       "      <td>110.0</td>\n",
       "    </tr>\n",
       "    <tr>\n",
       "      <th>4</th>\n",
       "      <td>PCX</td>\n",
       "      <td>2015</td>\n",
       "      <td>10199</td>\n",
       "      <td>Automatic</td>\n",
       "      <td>33177</td>\n",
       "      <td>Skuter</td>\n",
       "      <td>160.0</td>\n",
       "      <td>51.4</td>\n",
       "      <td>150.0</td>\n",
       "    </tr>\n",
       "  </tbody>\n",
       "</table>\n",
       "</div>"
      ],
      "text/plain": [
       "          model  tahun  harga  transmisi  odometer   jenis  pajak  \\\n",
       "0   Supra X 125   2017   7999     Manual     17307   Bebek  145.0   \n",
       "1     Vario 125   2016  14499  Automatic     25233  Skuter  235.0   \n",
       "2     Vario 125   2016  11399  Automatic     37877  Skuter   30.0   \n",
       "3          Revo   2016   6499     Manual     23789   Bebek   20.0   \n",
       "4           PCX   2015  10199  Automatic     33177  Skuter  160.0   \n",
       "\n",
       "   konsumsiBBM  mesin  \n",
       "0         58.9  125.0  \n",
       "1         43.5  125.0  \n",
       "2         61.7  125.0  \n",
       "3         60.1  110.0  \n",
       "4         51.4  150.0  "
      ]
     },
     "execution_count": 3,
     "metadata": {},
     "output_type": "execute_result"
    }
   ],
   "source": [
    "df.head()"
   ]
  },
  {
   "cell_type": "code",
   "execution_count": 4,
   "id": "a539d8dd-8271-4905-8d9d-ed51b60c5e5c",
   "metadata": {},
   "outputs": [
    {
     "name": "stdout",
     "output_type": "stream",
     "text": [
      "<class 'pandas.core.frame.DataFrame'>\n",
      "RangeIndex: 199 entries, 0 to 198\n",
      "Data columns (total 9 columns):\n",
      " #   Column       Non-Null Count  Dtype  \n",
      "---  ------       --------------  -----  \n",
      " 0   model        199 non-null    object \n",
      " 1   tahun        199 non-null    int64  \n",
      " 2   harga        199 non-null    int64  \n",
      " 3   transmisi    199 non-null    object \n",
      " 4   odometer     199 non-null    int64  \n",
      " 5   jenis        199 non-null    object \n",
      " 6   pajak        199 non-null    float64\n",
      " 7   konsumsiBBM  199 non-null    float64\n",
      " 8   mesin        198 non-null    float64\n",
      "dtypes: float64(3), int64(3), object(3)\n",
      "memory usage: 14.1+ KB\n"
     ]
    }
   ],
   "source": [
    "df.info()"
   ]
  },
  {
   "cell_type": "code",
   "execution_count": 5,
   "id": "51d28ccd-3f06-4765-9023-d84d5672119c",
   "metadata": {},
   "outputs": [
    {
     "data": {
      "text/html": [
       "<div>\n",
       "<style scoped>\n",
       "    .dataframe tbody tr th:only-of-type {\n",
       "        vertical-align: middle;\n",
       "    }\n",
       "\n",
       "    .dataframe tbody tr th {\n",
       "        vertical-align: top;\n",
       "    }\n",
       "\n",
       "    .dataframe thead th {\n",
       "        text-align: right;\n",
       "    }\n",
       "</style>\n",
       "<table border=\"1\" class=\"dataframe\">\n",
       "  <thead>\n",
       "    <tr style=\"text-align: right;\">\n",
       "      <th></th>\n",
       "      <th>tahun</th>\n",
       "      <th>harga</th>\n",
       "      <th>odometer</th>\n",
       "      <th>pajak</th>\n",
       "      <th>konsumsiBBM</th>\n",
       "      <th>mesin</th>\n",
       "    </tr>\n",
       "  </thead>\n",
       "  <tbody>\n",
       "    <tr>\n",
       "      <th>count</th>\n",
       "      <td>199.000000</td>\n",
       "      <td>199.000000</td>\n",
       "      <td>199.000000</td>\n",
       "      <td>199.000000</td>\n",
       "      <td>199.000000</td>\n",
       "      <td>198.000000</td>\n",
       "    </tr>\n",
       "    <tr>\n",
       "      <th>mean</th>\n",
       "      <td>2016.618090</td>\n",
       "      <td>11385.015075</td>\n",
       "      <td>23468.306533</td>\n",
       "      <td>110.395477</td>\n",
       "      <td>53.905528</td>\n",
       "      <td>123.914141</td>\n",
       "    </tr>\n",
       "    <tr>\n",
       "      <th>std</th>\n",
       "      <td>1.712955</td>\n",
       "      <td>4534.671984</td>\n",
       "      <td>15689.247247</td>\n",
       "      <td>63.600019</td>\n",
       "      <td>11.819869</td>\n",
       "      <td>16.821177</td>\n",
       "    </tr>\n",
       "    <tr>\n",
       "      <th>min</th>\n",
       "      <td>2011.000000</td>\n",
       "      <td>3799.000000</td>\n",
       "      <td>1391.000000</td>\n",
       "      <td>0.000000</td>\n",
       "      <td>28.000000</td>\n",
       "      <td>0.000000</td>\n",
       "    </tr>\n",
       "    <tr>\n",
       "      <th>25%</th>\n",
       "      <td>2016.000000</td>\n",
       "      <td>7996.500000</td>\n",
       "      <td>12696.000000</td>\n",
       "      <td>30.000000</td>\n",
       "      <td>44.800000</td>\n",
       "      <td>110.000000</td>\n",
       "    </tr>\n",
       "    <tr>\n",
       "      <th>50%</th>\n",
       "      <td>2017.000000</td>\n",
       "      <td>10998.000000</td>\n",
       "      <td>21119.000000</td>\n",
       "      <td>145.000000</td>\n",
       "      <td>56.500000</td>\n",
       "      <td>125.000000</td>\n",
       "    </tr>\n",
       "    <tr>\n",
       "      <th>75%</th>\n",
       "      <td>2018.000000</td>\n",
       "      <td>14498.500000</td>\n",
       "      <td>32103.000000</td>\n",
       "      <td>145.000000</td>\n",
       "      <td>60.100000</td>\n",
       "      <td>125.000000</td>\n",
       "    </tr>\n",
       "    <tr>\n",
       "      <th>max</th>\n",
       "      <td>2019.000000</td>\n",
       "      <td>34998.000000</td>\n",
       "      <td>119050.000000</td>\n",
       "      <td>300.000000</td>\n",
       "      <td>125.000000</td>\n",
       "      <td>150.000000</td>\n",
       "    </tr>\n",
       "  </tbody>\n",
       "</table>\n",
       "</div>"
      ],
      "text/plain": [
       "             tahun         harga       odometer       pajak  konsumsiBBM  \\\n",
       "count   199.000000    199.000000     199.000000  199.000000   199.000000   \n",
       "mean   2016.618090  11385.015075   23468.306533  110.395477    53.905528   \n",
       "std       1.712955   4534.671984   15689.247247   63.600019    11.819869   \n",
       "min    2011.000000   3799.000000    1391.000000    0.000000    28.000000   \n",
       "25%    2016.000000   7996.500000   12696.000000   30.000000    44.800000   \n",
       "50%    2017.000000  10998.000000   21119.000000  145.000000    56.500000   \n",
       "75%    2018.000000  14498.500000   32103.000000  145.000000    60.100000   \n",
       "max    2019.000000  34998.000000  119050.000000  300.000000   125.000000   \n",
       "\n",
       "            mesin  \n",
       "count  198.000000  \n",
       "mean   123.914141  \n",
       "std     16.821177  \n",
       "min      0.000000  \n",
       "25%    110.000000  \n",
       "50%    125.000000  \n",
       "75%    125.000000  \n",
       "max    150.000000  "
      ]
     },
     "execution_count": 5,
     "metadata": {},
     "output_type": "execute_result"
    }
   ],
   "source": [
    "df.describe()"
   ]
  },
  {
   "cell_type": "code",
   "execution_count": 6,
   "id": "43360b2e-7df1-4bbd-a9ad-acec8dcd0ac8",
   "metadata": {},
   "outputs": [
    {
     "data": {
      "text/plain": [
       "(199, 9)"
      ]
     },
     "execution_count": 6,
     "metadata": {},
     "output_type": "execute_result"
    }
   ],
   "source": [
    "df.shape"
   ]
  },
  {
   "cell_type": "code",
   "execution_count": 13,
   "id": "b5521435-91aa-4ab9-8859-f017a9b17709",
   "metadata": {},
   "outputs": [
    {
     "data": {
      "text/plain": [
       "model           object\n",
       "tahun            int64\n",
       "harga            int64\n",
       "transmisi       object\n",
       "odometer         int64\n",
       "jenis           object\n",
       "pajak          float64\n",
       "konsumsiBBM    float64\n",
       "mesin          float64\n",
       "dtype: object"
      ]
     },
     "execution_count": 13,
     "metadata": {},
     "output_type": "execute_result"
    }
   ],
   "source": [
    "df.dtypes"
   ]
  },
  {
   "cell_type": "code",
   "execution_count": 8,
   "id": "4adb448d-33e8-4621-9c08-9466734ecc4e",
   "metadata": {},
   "outputs": [
    {
     "data": {
      "image/png": "[encoded data removed]",
      "text/plain": [
       "<Figure size 2000x200 with 1 Axes>"
      ]
     },
     "metadata": {},
     "output_type": "display_data"
    },
    {
     "data": {
      "image/png": "[encoded data removed]",
      "text/plain": [
       "<Figure size 2000x200 with 1 Axes>"
      ]
     },
     "metadata": {},
     "output_type": "display_data"
    },
    {
     "data": {
      "image/png": "[encoded data removed]",
      "text/plain": [
       "<Figure size 2000x200 with 1 Axes>"
      ]
     },
     "metadata": {},
     "output_type": "display_data"
    },
    {
     "data": {
      "image/png": "[encoded data removed]",
      "text/plain": [
       "<Figure size 2000x200 with 1 Axes>"
      ]
     },
     "metadata": {},
     "output_type": "display_data"
    },
    {
     "data": {
      "image/png": "[encoded data removed]",
      "text/plain": [
       "<Figure size 2000x200 with 1 Axes>"
      ]
     },
     "metadata": {},
     "output_type": "display_data"
    },
    {
     "data": {
      "image/png": "[encoded data removed]",
      "text/plain": [
       "<Figure size 2000x200 with 1 Axes>"
      ]
     },
     "metadata": {},
     "output_type": "display_data"
    }
   ],
   "source": [
    "# Mencari Outliers - Boxplot\n",
    "df_outlier = df.select_dtypes(exclude=[\"object\"])\n",
    "for column in df_outlier:\n",
    "    plt.figure(figsize=(20, 2))\n",
    "    sns.boxplot(data=df_outlier, x=column)"
   ]
  },
  {
   "cell_type": "code",
   "execution_count": null,
   "id": "7c463f3d-e258-4685-9b98-2ab0b1b32163",
   "metadata": {},
   "outputs": [],
   "source": [
    "Winsorize data sebanyak 10% dari data yang melewati batas maksimum\n",
    "df['harga'] = winsorize(df['harga'], limits=[0, 0.05])"
   ]
  },
  {
   "cell_type": "markdown",
   "id": "522ad089-00e2-4f88-81ed-b0d72e027c86",
   "metadata": {},
   "source": [
    "# Cek missing value"
   ]
  },
  {
   "cell_type": "code",
   "execution_count": 10,
   "id": "36b5e987-188c-4032-a736-ecffbb7061af",
   "metadata": {},
   "outputs": [
    {
     "data": {
      "text/plain": [
       "model          0\n",
       "tahun          0\n",
       "harga          0\n",
       "transmisi      0\n",
       "odometer       0\n",
       "jenis          0\n",
       "pajak          0\n",
       "konsumsiBBM    0\n",
       "mesin          1\n",
       "dtype: int64"
      ]
     },
     "execution_count": 10,
     "metadata": {},
     "output_type": "execute_result"
    }
   ],
   "source": [
    "# Menghitung nilai data yang kosong\n",
    "df.isna().sum()"
   ]
  },
  {
   "cell_type": "code",
   "execution_count": 16,
   "id": "6481fc12-89d1-47ab-8b2f-c40761412187",
   "metadata": {},
   "outputs": [],
   "source": [
    "df_cleaned = df.dropna()"
   ]
  },
  {
   "cell_type": "code",
   "execution_count": 17,
   "id": "f5473ba5-5679-43d9-a4c7-ce2d745564a3",
   "metadata": {},
   "outputs": [
    {
     "name": "stdout",
     "output_type": "stream",
     "text": [
      "model          0\n",
      "tahun          0\n",
      "harga          0\n",
      "transmisi      0\n",
      "odometer       0\n",
      "jenis          0\n",
      "pajak          0\n",
      "konsumsiBBM    0\n",
      "mesin          0\n",
      "dtype: int64\n"
     ]
    }
   ],
   "source": [
    "print(df_cleaned.isnull().sum())"
   ]
  },
  {
   "cell_type": "code",
   "execution_count": null,
   "id": "08688114-c016-4c91-b4bb-16b5a9bc744e",
   "metadata": {},
   "outputs": [],
   "source": []
  }
 ],
 "metadata": {
  "kernelspec": {
   "display_name": "Python 3 (ipykernel)",
   "language": "python",
   "name": "python3"
  },
  "language_info": {
   "codemirror_mode": {
    "name": "ipython",
    "version": 3
   },
   "file_extension": ".py",
   "mimetype": "text/x-python",
   "name": "python",
   "nbconvert_exporter": "python",
   "pygments_lexer": "ipython3",
   "version": "3.10.12"
  }
 },
 "nbformat": 4,
 "nbformat_minor": 5
}
